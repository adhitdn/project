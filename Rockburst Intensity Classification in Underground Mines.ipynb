{
  "nbformat": 4,
  "nbformat_minor": 0,
  "metadata": {
    "colab": {
      "provenance": [],
      "toc_visible": true
    },
    "kernelspec": {
      "name": "python3",
      "display_name": "Python 3"
    },
    "language_info": {
      "name": "python"
    }
  },
  "cells": [
    {
      "cell_type": "markdown",
      "source": [
        "**ADHITYA DWI NUGRAHA**\n",
        "\n",
        "**You can access the dataset through this link**\n",
        "\n",
        "https://docs.google.com/spreadsheets/d/1ih8Fe2BS848FyKRoZhbgK-jLMMYXypyH/edit?usp=drive_link&ouid=101190233143685390070&rtpof=true&sd=true\n",
        "\n",
        "**Objective of this program is to compare model performance in classifying rockburst events and intensity in underground**"
      ],
      "metadata": {
        "id": "qgyZx_cob2P7"
      }
    },
    {
      "cell_type": "markdown",
      "source": [
        "# **START**"
      ],
      "metadata": {
        "id": "CZq2yVHaEfsV"
      }
    },
    {
      "cell_type": "code",
      "execution_count": 1,
      "metadata": {
        "id": "TSO4woe8KKyi"
      },
      "outputs": [],
      "source": [
        "#Import library\n",
        "import numpy as np\n",
        "import pandas as pd\n",
        "import matplotlib.pyplot as plt\n",
        "import seaborn as sns\n",
        "from imblearn.over_sampling import SMOTE"
      ]
    },
    {
      "cell_type": "code",
      "source": [
        "#Connecting to google drive\n",
        "from google.colab import drive\n",
        "drive.mount('/content/drive')"
      ],
      "metadata": {
        "colab": {
          "base_uri": "https://localhost:8080/"
        },
        "id": "yaheMlc1KSrG",
        "outputId": "5e031a18-92d6-47f6-ec9d-1a3a68ffd5c6"
      },
      "execution_count": 2,
      "outputs": [
        {
          "output_type": "stream",
          "name": "stdout",
          "text": [
            "Mounted at /content/drive\n"
          ]
        }
      ]
    },
    {
      "cell_type": "code",
      "source": [
        "#Path to saved the dataset\n",
        "path = \"/content/drive/MyDrive/Skripsweet/Dataset.xlsx\""
      ],
      "metadata": {
        "id": "cHFItLvROxoc"
      },
      "execution_count": 3,
      "outputs": []
    },
    {
      "cell_type": "code",
      "source": [
        "#Load data from excel\n",
        "data = pd.read_excel(path, sheet_name='Sheet1')"
      ],
      "metadata": {
        "id": "f2c7REgQ_4cx"
      },
      "execution_count": 7,
      "outputs": []
    },
    {
      "cell_type": "code",
      "source": [
        "#Rename columns\n",
        "data.rename(columns={'Rock type':'rock_type','σθ / Mpa':'MTS','σc / Mpa':'UCS','σt / MPa':'UTS',\n",
        "                     'σθ/σc':'SC','σc/σt':'RBC','Wet':'ESI','Rockburst intensity':'Intensity'\n",
        "                     }, inplace=True)\n",
        "print(data.columns)"
      ],
      "metadata": {
        "colab": {
          "base_uri": "https://localhost:8080/"
        },
        "id": "zFQfiK1g_6Su",
        "outputId": "2af8c185-a6ad-4fbc-b6fa-2ceb9898491c"
      },
      "execution_count": 8,
      "outputs": [
        {
          "output_type": "stream",
          "name": "stdout",
          "text": [
            "Index(['rock_type', 'MTS', 'UCS', 'UTS', 'SC', 'RBC', 'ESI', 'Intensity',\n",
            "       'Cite by'],\n",
            "      dtype='object')\n"
          ]
        }
      ]
    },
    {
      "cell_type": "code",
      "source": [
        "#Drop column cite by\n",
        "data.drop(['rock_type','Cite by'], axis=1, inplace=True)\n",
        "\n",
        "print(data.columns)"
      ],
      "metadata": {
        "colab": {
          "base_uri": "https://localhost:8080/"
        },
        "id": "rUqPLhQh_8YT",
        "outputId": "5464afee-4eb5-42a7-b9ae-10f566d9ff20"
      },
      "execution_count": 9,
      "outputs": [
        {
          "output_type": "stream",
          "name": "stdout",
          "text": [
            "Index(['MTS', 'UCS', 'UTS', 'SC', 'RBC', 'ESI', 'Intensity'], dtype='object')\n"
          ]
        }
      ]
    },
    {
      "cell_type": "code",
      "source": [
        "vc = data['Intensity'].value_counts()\n",
        "colr = plt.cm.get_cmap('tab10', len(vc))\n",
        "\n",
        "plt.bar(vc.index, vc.values, color=colr(np.arange(len(vc))))\n",
        "\n",
        "plt.xlabel('Rockburst Intensity')\n",
        "plt.ylabel('Count')\n",
        "plt.title('Class Composition')\n",
        "\n",
        "plt.show()"
      ],
      "metadata": {
        "colab": {
          "base_uri": "https://localhost:8080/",
          "height": 527
        },
        "id": "8aoBS35tyB6U",
        "outputId": "e43a0d1f-8b92-4881-ee65-c4a8f1157d0d"
      },
      "execution_count": 10,
      "outputs": [
        {
          "output_type": "stream",
          "name": "stderr",
          "text": [
            "<ipython-input-10-9f8151ddb7b8>:2: MatplotlibDeprecationWarning: The get_cmap function was deprecated in Matplotlib 3.7 and will be removed two minor releases later. Use ``matplotlib.colormaps[name]`` or ``matplotlib.colormaps.get_cmap(obj)`` instead.\n",
            "  colr = plt.cm.get_cmap('tab10', len(vc))\n"
          ]
        },
        {
          "output_type": "display_data",
          "data": {
            "text/plain": [
              "<Figure size 640x480 with 1 Axes>"
            ],
            "image/png": "[encoded data removed]"
          },
          "metadata": {}
        }
      ]
    },
    {
      "cell_type": "code",
      "source": [
        "data.head()"
      ],
      "metadata": {
        "colab": {
          "base_uri": "https://localhost:8080/",
          "height": 206
        },
        "id": "9j84e-Bbp9qC",
        "outputId": "76c0269d-8282-4bb7-a076-8d9a599ba8c9"
      },
      "execution_count": 11,
      "outputs": [
        {
          "output_type": "execute_result",
          "data": {
            "text/plain": [
              "    MTS    UCS   UTS    SC    RBC  ESI Intensity\n",
              "0  90.0  170.0  11.3  0.53  15.04  9.0  Moderate\n",
              "1  90.0  220.0   7.4  0.41  29.73  7.3      Weak\n",
              "2  62.6  165.0   9.4  0.38  17.55  9.0      Weak\n",
              "3  55.4  176.0   7.3  0.31  24.11  9.3  Moderate\n",
              "4  30.0   88.7   3.7  0.34  23.97  6.6  Moderate"
            ],
            "text/html": [
              "\n",
              "  <div id=\"df-5e8f7135-9ae4-4364-9687-d9f6942dbf42\" class=\"colab-df-container\">\n",
              "    <div>\n",
              "<style scoped>\n",
              "    .dataframe tbody tr th:only-of-type {\n",
              "        vertical-align: middle;\n",
              "    }\n",
              "\n",
              "    .dataframe tbody tr th {\n",
              "        vertical-align: top;\n",
              "    }\n",
              "\n",
              "    .dataframe thead th {\n",
              "        text-align: right;\n",
              "    }\n",
              "</style>\n",
              "<table border=\"1\" class=\"dataframe\">\n",
              "  <thead>\n",
              "    <tr style=\"text-align: right;\">\n",
              "      <th></th>\n",
              "      <th>MTS</th>\n",
              "      <th>UCS</th>\n",
              "      <th>UTS</th>\n",
              "      <th>SC</th>\n",
              "      <th>RBC</th>\n",
              "      <th>ESI</th>\n",
              "      <th>Intensity</th>\n",
              "    </tr>\n",
              "  </thead>\n",
              "  <tbody>\n",
              "    <tr>\n",
              "      <th>0</th>\n",
              "      <td>90.0</td>\n",
              "      <td>170.0</td>\n",
              "      <td>11.3</td>\n",
              "      <td>0.53</td>\n",
              "      <td>15.04</td>\n",
              "      <td>9.0</td>\n",
              "      <td>Moderate</td>\n",
              "    </tr>\n",
              "    <tr>\n",
              "      <th>1</th>\n",
              "      <td>90.0</td>\n",
              "      <td>220.0</td>\n",
              "      <td>7.4</td>\n",
              "      <td>0.41</td>\n",
              "      <td>29.73</td>\n",
              "      <td>7.3</td>\n",
              "      <td>Weak</td>\n",
              "    </tr>\n",
              "    <tr>\n",
              "      <th>2</th>\n",
              "      <td>62.6</td>\n",
              "      <td>165.0</td>\n",
              "      <td>9.4</td>\n",
              "      <td>0.38</td>\n",
              "      <td>17.55</td>\n",
              "      <td>9.0</td>\n",
              "      <td>Weak</td>\n",
              "    </tr>\n",
              "    <tr>\n",
              "      <th>3</th>\n",
              "      <td>55.4</td>\n",
              "      <td>176.0</td>\n",
              "      <td>7.3</td>\n",
              "      <td>0.31</td>\n",
              "      <td>24.11</td>\n",
              "      <td>9.3</td>\n",
              "      <td>Moderate</td>\n",
              "    </tr>\n",
              "    <tr>\n",
              "      <th>4</th>\n",
              "      <td>30.0</td>\n",
              "      <td>88.7</td>\n",
              "      <td>3.7</td>\n",
              "      <td>0.34</td>\n",
              "      <td>23.97</td>\n",
              "      <td>6.6</td>\n",
              "      <td>Moderate</td>\n",
              "    </tr>\n",
              "  </tbody>\n",
              "</table>\n",
              "</div>\n",
              "    <div class=\"colab-df-buttons\">\n",
              "\n",
              "  <div class=\"colab-df-container\">\n",
              "    <button class=\"colab-df-convert\" onclick=\"convertToInteractive('df-5e8f7135-9ae4-4364-9687-d9f6942dbf42')\"\n",
              "            title=\"Convert this dataframe to an interactive table.\"\n",
              "            style=\"display:none;\">\n",
              "\n",
              "  <svg xmlns=\"http://www.w3.org/2000/svg\" height=\"24px\" viewBox=\"0 -960 960 960\">\n",
              "    <path d=\"M120-120v-720h720v720H120Zm60-500h600v-160H180v160Zm220 220h160v-160H400v160Zm0 220h160v-160H400v160ZM180-400h160v-160H180v160Zm440 0h160v-160H620v160ZM180-180h160v-160H180v160Zm440 0h160v-160H620v160Z\"/>\n",
              "  </svg>\n",
              "    </button>\n",
              "\n",
              "  <style>\n",
              "    .colab-df-container {\n",
              "      display:flex;\n",
              "      gap: 12px;\n",
              "    }\n",
              "\n",
              "    .colab-df-convert {\n",
              "      background-color: #E8F0FE;\n",
              "      border: none;\n",
              "      border-radius: 50%;\n",
              "      cursor: pointer;\n",
              "      display: none;\n",
              "      fill: #1967D2;\n",
              "      height: 32px;\n",
              "      padding: 0 0 0 0;\n",
              "      width: 32px;\n",
              "    }\n",
              "\n",
              "    .colab-df-convert:hover {\n",
              "      background-color: #E2EBFA;\n",
              "      box-shadow: 0px 1px 2px rgba(60, 64, 67, 0.3), 0px 1px 3px 1px rgba(60, 64, 67, 0.15);\n",
              "      fill: #174EA6;\n",
              "    }\n",
              "\n",
              "    .colab-df-buttons div {\n",
              "      margin-bottom: 4px;\n",
              "    }\n",
              "\n",
              "    [theme=dark] .colab-df-convert {\n",
              "      background-color: #3B4455;\n",
              "      fill: #D2E3FC;\n",
              "    }\n",
              "\n",
              "    [theme=dark] .colab-df-convert:hover {\n",
              "      background-color: #434B5C;\n",
              "      box-shadow: 0px 1px 3px 1px rgba(0, 0, 0, 0.15);\n",
              "      filter: drop-shadow(0px 1px 2px rgba(0, 0, 0, 0.3));\n",
              "      fill: #FFFFFF;\n",
              "    }\n",
              "  </style>\n",
              "\n",
              "    <script>\n",
              "      const buttonEl =\n",
              "        document.querySelector('#df-5e8f7135-9ae4-4364-9687-d9f6942dbf42 button.colab-df-convert');\n",
              "      buttonEl.style.display =\n",
              "        google.colab.kernel.accessAllowed ? 'block' : 'none';\n",
              "\n",
              "      async function convertToInteractive(key) {\n",
              "        const element = document.querySelector('#df-5e8f7135-9ae4-4364-9687-d9f6942dbf42');\n",
              "        const dataTable =\n",
              "          await google.colab.kernel.invokeFunction('convertToInteractive',\n",
              "                                                    [key], {});\n",
              "        if (!dataTable) return;\n",
              "\n",
              "        const docLinkHtml = 'Like what you see? Visit the ' +\n",
              "          '<a target=\"_blank\" href=https://colab.research.google.com/notebooks/data_table.ipynb>data table notebook</a>'\n",
              "          + ' to learn more about interactive tables.';\n",
              "        element.innerHTML = '';\n",
              "        dataTable['output_type'] = 'display_data';\n",
              "        await google.colab.output.renderOutput(dataTable, element);\n",
              "        const docLink = document.createElement('div');\n",
              "        docLink.innerHTML = docLinkHtml;\n",
              "        element.appendChild(docLink);\n",
              "      }\n",
              "    </script>\n",
              "  </div>\n",
              "\n",
              "\n",
              "<div id=\"df-531e7d17-e964-4afe-8c1c-4a71307b562c\">\n",
              "  <button class=\"colab-df-quickchart\" onclick=\"quickchart('df-531e7d17-e964-4afe-8c1c-4a71307b562c')\"\n",
              "            title=\"Suggest charts.\"\n",
              "            style=\"display:none;\">\n",
              "\n",
              "<svg xmlns=\"http://www.w3.org/2000/svg\" height=\"24px\"viewBox=\"0 0 24 24\"\n",
              "     width=\"24px\">\n",
              "    <g>\n",
              "        <path d=\"M19 3H5c-1.1 0-2 .9-2 2v14c0 1.1.9 2 2 2h14c1.1 0 2-.9 2-2V5c0-1.1-.9-2-2-2zM9 17H7v-7h2v7zm4 0h-2V7h2v10zm4 0h-2v-4h2v4z\"/>\n",
              "    </g>\n",
              "</svg>\n",
              "  </button>\n",
              "\n",
              "<style>\n",
              "  .colab-df-quickchart {\n",
              "    background-color: #E8F0FE;\n",
              "    border: none;\n",
              "    border-radius: 50%;\n",
              "    cursor: pointer;\n",
              "    display: none;\n",
              "    fill: #1967D2;\n",
              "    height: 32px;\n",
              "    padding: 0 0 0 0;\n",
              "    width: 32px;\n",
              "  }\n",
              "\n",
              "  .colab-df-quickchart:hover {\n",
              "    background-color: #E2EBFA;\n",
              "    box-shadow: 0px 1px 2px rgba(60, 64, 67, 0.3), 0px 1px 3px 1px rgba(60, 64, 67, 0.15);\n",
              "    fill: #174EA6;\n",
              "  }\n",
              "\n",
              "  [theme=dark] .colab-df-quickchart {\n",
              "    background-color: #3B4455;\n",
              "    fill: #D2E3FC;\n",
              "  }\n",
              "\n",
              "  [theme=dark] .colab-df-quickchart:hover {\n",
              "    background-color: #434B5C;\n",
              "    box-shadow: 0px 1px 3px 1px rgba(0, 0, 0, 0.15);\n",
              "    filter: drop-shadow(0px 1px 2px rgba(0, 0, 0, 0.3));\n",
              "    fill: #FFFFFF;\n",
              "  }\n",
              "</style>\n",
              "\n",
              "  <script>\n",
              "    async function quickchart(key) {\n",
              "      const charts = await google.colab.kernel.invokeFunction(\n",
              "          'suggestCharts', [key], {});\n",
              "    }\n",
              "    (() => {\n",
              "      let quickchartButtonEl =\n",
              "        document.querySelector('#df-531e7d17-e964-4afe-8c1c-4a71307b562c button');\n",
              "      quickchartButtonEl.style.display =\n",
              "        google.colab.kernel.accessAllowed ? 'block' : 'none';\n",
              "    })();\n",
              "  </script>\n",
              "</div>\n",
              "    </div>\n",
              "  </div>\n"
            ]
          },
          "metadata": {},
          "execution_count": 11
        }
      ]
    },
    {
      "cell_type": "code",
      "source": [
        "# drop rows with missing values in column intensity\n",
        "data.dropna(subset=['Intensity'], inplace=True)"
      ],
      "metadata": {
        "id": "vjF4Ix7y_-gg"
      },
      "execution_count": 12,
      "outputs": []
    },
    {
      "cell_type": "markdown",
      "source": [
        "# **PRE-PROCESSING**"
      ],
      "metadata": {
        "id": "QZdmFxcafX1x"
      }
    },
    {
      "cell_type": "code",
      "source": [
        "#data imputation\n",
        "data_imputed = data.copy()"
      ],
      "metadata": {
        "id": "7uotvBbcAAuO"
      },
      "execution_count": 13,
      "outputs": []
    },
    {
      "cell_type": "code",
      "source": [
        "cols_with_missing = data_imputed.columns[data_imputed.isna().any()].tolist()\n",
        "\n",
        "# Loop over each column with missing data and perform median imputation\n",
        "for col in cols_with_missing:\n",
        "    mean_value = np.mean(data_imputed[col].dropna())\n",
        "    data_imputed[col].fillna(mean_value, inplace=True)"
      ],
      "metadata": {
        "id": "YIgUp3LyAFAi"
      },
      "execution_count": 14,
      "outputs": []
    },
    {
      "cell_type": "code",
      "source": [
        "def rb_occurence(df):\n",
        "  if df['Intensity'] == 'Moderate':\n",
        "    return 'Yes'\n",
        "  if df['Intensity'] == 'Strong':\n",
        "    return 'Yes'\n",
        "  if df['Intensity'] == 'Weak':\n",
        "    return 'Yes'\n",
        "  else:\n",
        "    return 'No'\n",
        "\n",
        "data_imputed['Occurence'] = data_imputed.apply(rb_occurence, axis=1)"
      ],
      "metadata": {
        "id": "ulMQxJ4hARme"
      },
      "execution_count": 15,
      "outputs": []
    },
    {
      "cell_type": "code",
      "source": [
        "data_imputed.head(8)"
      ],
      "metadata": {
        "id": "tbKOcZqBqNNl",
        "colab": {
          "base_uri": "https://localhost:8080/",
          "height": 300
        },
        "outputId": "1f9c63ee-5c85-49af-fe4d-ff9f23d3440a"
      },
      "execution_count": 16,
      "outputs": [
        {
          "output_type": "execute_result",
          "data": {
            "text/plain": [
              "     MTS    UCS   UTS    SC    RBC  ESI Intensity Occurence\n",
              "0  90.00  170.0  11.3  0.53  15.04  9.0  Moderate       Yes\n",
              "1  90.00  220.0   7.4  0.41  29.73  7.3      Weak       Yes\n",
              "2  62.60  165.0   9.4  0.38  17.55  9.0      Weak       Yes\n",
              "3  55.40  176.0   7.3  0.31  24.11  9.3  Moderate       Yes\n",
              "4  30.00   88.7   3.7  0.34  23.97  6.6  Moderate       Yes\n",
              "5  48.75  180.0   8.3  0.27  21.69  5.0  Moderate       Yes\n",
              "6  80.00  180.0   6.7  0.44  26.87  5.5      Weak       Yes\n",
              "7  89.00  236.0   8.3  0.38  28.43  5.0  Moderate       Yes"
            ],
            "text/html": [
              "\n",
              "  <div id=\"df-9e6d0b2f-996b-4a3b-aa54-bc0af2af340e\" class=\"colab-df-container\">\n",
              "    <div>\n",
              "<style scoped>\n",
              "    .dataframe tbody tr th:only-of-type {\n",
              "        vertical-align: middle;\n",
              "    }\n",
              "\n",
              "    .dataframe tbody tr th {\n",
              "        vertical-align: top;\n",
              "    }\n",
              "\n",
              "    .dataframe thead th {\n",
              "        text-align: right;\n",
              "    }\n",
              "</style>\n",
              "<table border=\"1\" class=\"dataframe\">\n",
              "  <thead>\n",
              "    <tr style=\"text-align: right;\">\n",
              "      <th></th>\n",
              "      <th>MTS</th>\n",
              "      <th>UCS</th>\n",
              "      <th>UTS</th>\n",
              "      <th>SC</th>\n",
              "      <th>RBC</th>\n",
              "      <th>ESI</th>\n",
              "      <th>Intensity</th>\n",
              "      <th>Occurence</th>\n",
              "    </tr>\n",
              "  </thead>\n",
              "  <tbody>\n",
              "    <tr>\n",
              "      <th>0</th>\n",
              "      <td>90.00</td>\n",
              "      <td>170.0</td>\n",
              "      <td>11.3</td>\n",
              "      <td>0.53</td>\n",
              "      <td>15.04</td>\n",
              "      <td>9.0</td>\n",
              "      <td>Moderate</td>\n",
              "      <td>Yes</td>\n",
              "    </tr>\n",
              "    <tr>\n",
              "      <th>1</th>\n",
              "      <td>90.00</td>\n",
              "      <td>220.0</td>\n",
              "      <td>7.4</td>\n",
              "      <td>0.41</td>\n",
              "      <td>29.73</td>\n",
              "      <td>7.3</td>\n",
              "      <td>Weak</td>\n",
              "      <td>Yes</td>\n",
              "    </tr>\n",
              "    <tr>\n",
              "      <th>2</th>\n",
              "      <td>62.60</td>\n",
              "      <td>165.0</td>\n",
              "      <td>9.4</td>\n",
              "      <td>0.38</td>\n",
              "      <td>17.55</td>\n",
              "      <td>9.0</td>\n",
              "      <td>Weak</td>\n",
              "      <td>Yes</td>\n",
              "    </tr>\n",
              "    <tr>\n",
              "      <th>3</th>\n",
              "      <td>55.40</td>\n",
              "      <td>176.0</td>\n",
              "      <td>7.3</td>\n",
              "      <td>0.31</td>\n",
              "      <td>24.11</td>\n",
              "      <td>9.3</td>\n",
              "      <td>Moderate</td>\n",
              "      <td>Yes</td>\n",
              "    </tr>\n",
              "    <tr>\n",
              "      <th>4</th>\n",
              "      <td>30.00</td>\n",
              "      <td>88.7</td>\n",
              "      <td>3.7</td>\n",
              "      <td>0.34</td>\n",
              "      <td>23.97</td>\n",
              "      <td>6.6</td>\n",
              "      <td>Moderate</td>\n",
              "      <td>Yes</td>\n",
              "    </tr>\n",
              "    <tr>\n",
              "      <th>5</th>\n",
              "      <td>48.75</td>\n",
              "      <td>180.0</td>\n",
              "      <td>8.3</td>\n",
              "      <td>0.27</td>\n",
              "      <td>21.69</td>\n",
              "      <td>5.0</td>\n",
              "      <td>Moderate</td>\n",
              "      <td>Yes</td>\n",
              "    </tr>\n",
              "    <tr>\n",
              "      <th>6</th>\n",
              "      <td>80.00</td>\n",
              "      <td>180.0</td>\n",
              "      <td>6.7</td>\n",
              "      <td>0.44</td>\n",
              "      <td>26.87</td>\n",
              "      <td>5.5</td>\n",
              "      <td>Weak</td>\n",
              "      <td>Yes</td>\n",
              "    </tr>\n",
              "    <tr>\n",
              "      <th>7</th>\n",
              "      <td>89.00</td>\n",
              "      <td>236.0</td>\n",
              "      <td>8.3</td>\n",
              "      <td>0.38</td>\n",
              "      <td>28.43</td>\n",
              "      <td>5.0</td>\n",
              "      <td>Moderate</td>\n",
              "      <td>Yes</td>\n",
              "    </tr>\n",
              "  </tbody>\n",
              "</table>\n",
              "</div>\n",
              "    <div class=\"colab-df-buttons\">\n",
              "\n",
              "  <div class=\"colab-df-container\">\n",
              "    <button class=\"colab-df-convert\" onclick=\"convertToInteractive('df-9e6d0b2f-996b-4a3b-aa54-bc0af2af340e')\"\n",
              "            title=\"Convert this dataframe to an interactive table.\"\n",
              "            style=\"display:none;\">\n",
              "\n",
              "  <svg xmlns=\"http://www.w3.org/2000/svg\" height=\"24px\" viewBox=\"0 -960 960 960\">\n",
              "    <path d=\"M120-120v-720h720v720H120Zm60-500h600v-160H180v160Zm220 220h160v-160H400v160Zm0 220h160v-160H400v160ZM180-400h160v-160H180v160Zm440 0h160v-160H620v160ZM180-180h160v-160H180v160Zm440 0h160v-160H620v160Z\"/>\n",
              "  </svg>\n",
              "    </button>\n",
              "\n",
              "  <style>\n",
              "    .colab-df-container {\n",
              "      display:flex;\n",
              "      gap: 12px;\n",
              "    }\n",
              "\n",
              "    .colab-df-convert {\n",
              "      background-color: #E8F0FE;\n",
              "      border: none;\n",
              "      border-radius: 50%;\n",
              "      cursor: pointer;\n",
              "      display: none;\n",
              "      fill: #1967D2;\n",
              "      height: 32px;\n",
              "      padding: 0 0 0 0;\n",
              "      width: 32px;\n",
              "    }\n",
              "\n",
              "    .colab-df-convert:hover {\n",
              "      background-color: #E2EBFA;\n",
              "      box-shadow: 0px 1px 2px rgba(60, 64, 67, 0.3), 0px 1px 3px 1px rgba(60, 64, 67, 0.15);\n",
              "      fill: #174EA6;\n",
              "    }\n",
              "\n",
              "    .colab-df-buttons div {\n",
              "      margin-bottom: 4px;\n",
              "    }\n",
              "\n",
              "    [theme=dark] .colab-df-convert {\n",
              "      background-color: #3B4455;\n",
              "      fill: #D2E3FC;\n",
              "    }\n",
              "\n",
              "    [theme=dark] .colab-df-convert:hover {\n",
              "      background-color: #434B5C;\n",
              "      box-shadow: 0px 1px 3px 1px rgba(0, 0, 0, 0.15);\n",
              "      filter: drop-shadow(0px 1px 2px rgba(0, 0, 0, 0.3));\n",
              "      fill: #FFFFFF;\n",
              "    }\n",
              "  </style>\n",
              "\n",
              "    <script>\n",
              "      const buttonEl =\n",
              "        document.querySelector('#df-9e6d0b2f-996b-4a3b-aa54-bc0af2af340e button.colab-df-convert');\n",
              "      buttonEl.style.display =\n",
              "        google.colab.kernel.accessAllowed ? 'block' : 'none';\n",
              "\n",
              "      async function convertToInteractive(key) {\n",
              "        const element = document.querySelector('#df-9e6d0b2f-996b-4a3b-aa54-bc0af2af340e');\n",
              "        const dataTable =\n",
              "          await google.colab.kernel.invokeFunction('convertToInteractive',\n",
              "                                                    [key], {});\n",
              "        if (!dataTable) return;\n",
              "\n",
              "        const docLinkHtml = 'Like what you see? Visit the ' +\n",
              "          '<a target=\"_blank\" href=https://colab.research.google.com/notebooks/data_table.ipynb>data table notebook</a>'\n",
              "          + ' to learn more about interactive tables.';\n",
              "        element.innerHTML = '';\n",
              "        dataTable['output_type'] = 'display_data';\n",
              "        await google.colab.output.renderOutput(dataTable, element);\n",
              "        const docLink = document.createElement('div');\n",
              "        docLink.innerHTML = docLinkHtml;\n",
              "        element.appendChild(docLink);\n",
              "      }\n",
              "    </script>\n",
              "  </div>\n",
              "\n",
              "\n",
              "<div id=\"df-3d7d08c0-fa15-4086-92fb-6c603d1a6371\">\n",
              "  <button class=\"colab-df-quickchart\" onclick=\"quickchart('df-3d7d08c0-fa15-4086-92fb-6c603d1a6371')\"\n",
              "            title=\"Suggest charts.\"\n",
              "            style=\"display:none;\">\n",
              "\n",
              "<svg xmlns=\"http://www.w3.org/2000/svg\" height=\"24px\"viewBox=\"0 0 24 24\"\n",
              "     width=\"24px\">\n",
              "    <g>\n",
              "        <path d=\"M19 3H5c-1.1 0-2 .9-2 2v14c0 1.1.9 2 2 2h14c1.1 0 2-.9 2-2V5c0-1.1-.9-2-2-2zM9 17H7v-7h2v7zm4 0h-2V7h2v10zm4 0h-2v-4h2v4z\"/>\n",
              "    </g>\n",
              "</svg>\n",
              "  </button>\n",
              "\n",
              "<style>\n",
              "  .colab-df-quickchart {\n",
              "    background-color: #E8F0FE;\n",
              "    border: none;\n",
              "    border-radius: 50%;\n",
              "    cursor: pointer;\n",
              "    display: none;\n",
              "    fill: #1967D2;\n",
              "    height: 32px;\n",
              "    padding: 0 0 0 0;\n",
              "    width: 32px;\n",
              "  }\n",
              "\n",
              "  .colab-df-quickchart:hover {\n",
              "    background-color: #E2EBFA;\n",
              "    box-shadow: 0px 1px 2px rgba(60, 64, 67, 0.3), 0px 1px 3px 1px rgba(60, 64, 67, 0.15);\n",
              "    fill: #174EA6;\n",
              "  }\n",
              "\n",
              "  [theme=dark] .colab-df-quickchart {\n",
              "    background-color: #3B4455;\n",
              "    fill: #D2E3FC;\n",
              "  }\n",
              "\n",
              "  [theme=dark] .colab-df-quickchart:hover {\n",
              "    background-color: #434B5C;\n",
              "    box-shadow: 0px 1px 3px 1px rgba(0, 0, 0, 0.15);\n",
              "    filter: drop-shadow(0px 1px 2px rgba(0, 0, 0, 0.3));\n",
              "    fill: #FFFFFF;\n",
              "  }\n",
              "</style>\n",
              "\n",
              "  <script>\n",
              "    async function quickchart(key) {\n",
              "      const charts = await google.colab.kernel.invokeFunction(\n",
              "          'suggestCharts', [key], {});\n",
              "    }\n",
              "    (() => {\n",
              "      let quickchartButtonEl =\n",
              "        document.querySelector('#df-3d7d08c0-fa15-4086-92fb-6c603d1a6371 button');\n",
              "      quickchartButtonEl.style.display =\n",
              "        google.colab.kernel.accessAllowed ? 'block' : 'none';\n",
              "    })();\n",
              "  </script>\n",
              "</div>\n",
              "    </div>\n",
              "  </div>\n"
            ]
          },
          "metadata": {},
          "execution_count": 16
        }
      ]
    },
    {
      "cell_type": "code",
      "source": [
        "# List of columns to check for outliers\n",
        "cols_to_check = ['MTS','UCS','UTS','SC','RBC','ESI']\n",
        "\n",
        "# Create box plots for each column\n",
        "for col in cols_to_check:\n",
        "    # Calculate the IQR and upper and lower bounds for the column\n",
        "    q1 = data_imputed[col].quantile(0.25)\n",
        "    q3 = data_imputed[col].quantile(0.75)\n",
        "    iqr = q3 - q1\n",
        "    upper_bound = q3 + (1.5 * iqr)\n",
        "    lower_bound = q1 - (1.5 * iqr)\n",
        "\n",
        "    # Highlight the outliers\n",
        "    outliers = data_imputed[(data_imputed[col] > upper_bound) | (data_imputed[col] < lower_bound)]\n",
        "    num_outliers = len(outliers)\n",
        "    print(f\"Number of outliers in columns {col}: {num_outliers}\")\n",
        "    print(f\"Rows with outliers : {outliers}\")"
      ],
      "metadata": {
        "id": "a9rZ9UgjAX5k",
        "colab": {
          "base_uri": "https://localhost:8080/"
        },
        "outputId": "e684e171-eed3-4183-e2fb-00f312197560"
      },
      "execution_count": 17,
      "outputs": [
        {
          "output_type": "stream",
          "name": "stdout",
          "text": [
            "Number of outliers in columns MTS: 26\n",
            "Rows with outliers :         MTS     UCS    UTS    SC    RBC    ESI Intensity Occurence\n",
            "119  120.80  151.60  10.10  0.80  15.01  20.00    Strong       Yes\n",
            "120  119.32  138.60   7.74  0.86  17.91  30.00    Strong       Yes\n",
            "123  127.60  145.42  13.70  0.88  10.61  10.00    Strong       Yes\n",
            "124  126.41  158.03  14.32  0.80  11.04  10.00    Strong       Yes\n",
            "145  225.50   86.30  15.60  2.61   5.53   6.30    Strong       Yes\n",
            "146  225.50   61.10   5.30  3.69  11.53   7.20    Strong       Yes\n",
            "147  225.50   99.20   7.30  2.27  13.59   8.31    Strong       Yes\n",
            "148  225.50   91.30  14.50  2.47   6.30  21.00    Strong       Yes\n",
            "149  274.30   86.30  15.60  3.18   5.53   6.30    Strong       Yes\n",
            "150  274.30   61.10   5.30  4.49  11.53   7.20    Strong       Yes\n",
            "151  274.30   99.20   7.30  2.77  13.59   8.31    Strong       Yes\n",
            "152  274.30   91.30  14.50  3.00   6.30  21.00    Strong       Yes\n",
            "153  297.80   86.30  15.60  3.45   5.53   6.30    Strong       Yes\n",
            "154  297.80   61.10   5.30  4.87  11.53   7.20    Strong       Yes\n",
            "155  297.80   99.20   7.30  3.00  13.59   8.31    Strong       Yes\n",
            "156  297.80   91.30  14.50  3.26   6.30  21.00    Strong       Yes\n",
            "242  126.72  189.70   8.95  0.67  21.20   5.43      Weak       Yes\n",
            "247  116.88  162.33  12.30  0.72  13.20   5.23    Strong       Yes\n",
            "263  118.77  162.70   5.48  0.73  29.70   3.82  Moderate       Yes\n",
            "293  132.40  172.00   9.80  0.77  17.50   5.50    Strong       Yes\n",
            "369  157.30   91.23   6.92  0.58  13.18   6.27    Strong       Yes\n",
            "370  148.40   66.77   3.81  0.45  17.53   5.08      Weak       Yes\n",
            "371  132.10   51.50   2.47  0.39  20.86   4.63  Moderate       Yes\n",
            "372  127.90   35.82   1.24  0.28  28.90   3.67      Weak       Yes\n",
            "375  167.20  110.30   8.36  0.66  13.20   6.83    Strong       Yes\n",
            "376  118.50   26.06   0.77  0.22  33.75   2.89      Weak       Yes\n",
            "Number of outliers in columns UCS: 11\n",
            "Rows with outliers :        MTS    UCS    UTS    SC    RBC    ESI Intensity Occurence\n",
            "7    89.00  236.0   8.30  0.38  28.43   5.00  Moderate       Yes\n",
            "86   92.00  263.0  10.70  0.35  24.58   8.00      Weak       Yes\n",
            "161  80.54  237.2  17.66  0.34  13.43   6.38  Moderate       Yes\n",
            "163  72.56  304.2  20.90  0.24  14.56  10.57    Strong       Yes\n",
            "278  30.90  238.0   7.60  0.13  31.20   7.40      None        No\n",
            "287  24.10  241.0   0.40  0.10  23.00   5.70      None        No\n",
            "303  12.30  237.1  17.66  0.05  13.43   6.90      None        No\n",
            "304  55.60  256.5  18.90  0.22  13.57   9.10    Strong       Yes\n",
            "321  88.90  236.0   8.30  0.38  28.43   5.00    Strong       Yes\n",
            "351  89.00  236.0   8.30  0.38  28.43   5.00  Moderate       Yes\n",
            "405  92.00  263.0  10.70  0.35  24.58   8.00      Weak       Yes\n",
            "Number of outliers in columns UTS: 9\n",
            "Rows with outliers :         MTS     UCS    UTS    SC    RBC    ESI Intensity Occurence\n",
            "161   80.54  237.20  17.66  0.34  13.43   6.38  Moderate       Yes\n",
            "162   80.04  171.30  22.60  0.47   7.58   7.27    Strong       Yes\n",
            "163   72.56  304.20  20.90  0.24  14.56  10.57    Strong       Yes\n",
            "231   20.61   54.23  21.49  0.38   2.52   3.17      Weak       Yes\n",
            "280   75.50  151.00  18.20  0.50   8.30   3.10      Weak       Yes\n",
            "301   61.00  171.50  22.60  0.36   7.59   7.50      Weak       Yes\n",
            "303   12.30  237.10  17.66  0.05  13.43   6.90      None        No\n",
            "304   55.60  256.50  18.90  0.22  13.57   9.10    Strong       Yes\n",
            "450  105.50  187.00  19.20  0.56   9.74   7.27  Moderate       Yes\n",
            "Number of outliers in columns SC: 15\n",
            "Rows with outliers :             MTS         UCS       UTS    SC    RBC    ESI Intensity Occurence\n",
            "142   77.000000   61.100000   5.30000  1.26  11.53   7.20    Strong       Yes\n",
            "145  225.500000   86.300000  15.60000  2.61   5.53   6.30    Strong       Yes\n",
            "146  225.500000   61.100000   5.30000  3.69  11.53   7.20    Strong       Yes\n",
            "147  225.500000   99.200000   7.30000  2.27  13.59   8.31    Strong       Yes\n",
            "148  225.500000   91.300000  14.50000  2.47   6.30  21.00    Strong       Yes\n",
            "149  274.300000   86.300000  15.60000  3.18   5.53   6.30    Strong       Yes\n",
            "150  274.300000   61.100000   5.30000  4.49  11.53   7.20    Strong       Yes\n",
            "151  274.300000   99.200000   7.30000  2.77  13.59   8.31    Strong       Yes\n",
            "152  274.300000   91.300000  14.50000  3.00   6.30  21.00    Strong       Yes\n",
            "153  297.800000   86.300000  15.60000  3.45   5.53   6.30    Strong       Yes\n",
            "154  297.800000   61.100000   5.30000  4.87  11.53   7.20    Strong       Yes\n",
            "155  297.800000   99.200000   7.30000  3.00  13.59   8.31    Strong       Yes\n",
            "156  297.800000   91.300000  14.50000  3.26   6.30  21.00    Strong       Yes\n",
            "193   63.600000   50.000000   4.00000  1.27  12.50   5.30  Moderate       Yes\n",
            "415   56.862257  117.090708   6.75823  1.41  19.20   3.10    Strong       Yes\n",
            "Number of outliers in columns RBC: 22\n",
            "Rows with outliers :        MTS     UCS   UTS    SC    RBC   ESI Intensity Occurence\n",
            "51   46.22  140.07  2.01  0.33  69.69  3.29      Weak       Yes\n",
            "179  55.60  114.00  2.30  0.49  49.50  4.70  Moderate       Yes\n",
            "181  62.10  132.00  2.40  0.47  55.00  5.00  Moderate       Yes\n",
            "186  55.60  114.00  2.30  0.49  49.50  4.70  Moderate       Yes\n",
            "190  56.80  112.00  2.20  0.50  50.90  5.20  Moderate       Yes\n",
            "232  48.00  120.00  1.50  0.40  80.00  5.80  Moderate       Yes\n",
            "233  49.50  110.00  1.50  0.45  73.33  5.70  Moderate       Yes\n",
            "234  63.00  115.00  1.50  0.55  76.67  5.70  Moderate       Yes\n",
            "235  17.39  102.30  1.30  0.17  78.69  6.58  Moderate       Yes\n",
            "236  17.02   85.09  1.30  0.20  65.45  6.14  Moderate       Yes\n",
            "237  16.70   83.50  1.30  0.20  64.23  6.53  Moderate       Yes\n",
            "238  17.35   86.77  1.30  0.20  66.75  3.22  Moderate       Yes\n",
            "239  16.87   80.33  1.30  0.21  61.79  6.92  Moderate       Yes\n",
            "240  17.08   94.90  1.30  0.18  73.00  6.91  Moderate       Yes\n",
            "318  62.90  115.00  1.50  0.55  76.67  5.70    Strong       Yes\n",
            "333  47.60  121.00  1.70  0.39  71.18  5.30    Strong       Yes\n",
            "338  47.90  120.00  1.50  0.40  80.00  5.80    Strong       Yes\n",
            "339  49.40  110.00  1.50  0.45  73.33  5.70    Strong       Yes\n",
            "466  55.60  114.00  2.30  0.49  49.50  4.70  Moderate       Yes\n",
            "468  62.10  132.00  2.40  0.47  55.00  5.00  Moderate       Yes\n",
            "473  55.60  114.00  2.30  0.49  49.50  4.70  Moderate       Yes\n",
            "477  56.80  112.00  2.20  0.50  50.90  5.20  Moderate       Yes\n",
            "Number of outliers in columns ESI: 9\n",
            "Rows with outliers :         MTS     UCS    UTS    SC    RBC   ESI Intensity Occurence\n",
            "119  120.80  151.60  10.10  0.80  15.01  20.0    Strong       Yes\n",
            "120  119.32  138.60   7.74  0.86  17.91  30.0    Strong       Yes\n",
            "121   95.67  127.37  10.51  0.75  12.12  30.0    Strong       Yes\n",
            "136   47.50   91.30  14.50  0.52   6.30  21.0  Moderate       Yes\n",
            "140   67.20   91.30  14.50  0.74   6.30  21.0  Moderate       Yes\n",
            "144   77.00   91.30  14.50  0.84   6.30  21.0    Strong       Yes\n",
            "148  225.50   91.30  14.50  2.47   6.30  21.0    Strong       Yes\n",
            "152  274.30   91.30  14.50  3.00   6.30  21.0    Strong       Yes\n",
            "156  297.80   91.30  14.50  3.26   6.30  21.0    Strong       Yes\n"
          ]
        }
      ]
    },
    {
      "cell_type": "code",
      "source": [
        "data_clean = data_imputed.copy()"
      ],
      "metadata": {
        "id": "mSxBuRxDHBU_"
      },
      "execution_count": 18,
      "outputs": []
    },
    {
      "cell_type": "code",
      "source": [
        "# define function to remove outliers using IQR\n",
        "def remove_outliers(df, columns):\n",
        "    result = df.copy()\n",
        "    for feature_name in columns:\n",
        "        Q1 = df[feature_name].quantile(0.25)\n",
        "        Q3 = df[feature_name].quantile(0.75)\n",
        "        IQR = Q3 - Q1\n",
        "        lower_bound = Q1 - 1.5 * IQR\n",
        "        upper_bound = Q3 + 1.5 * IQR\n",
        "        result = result[(result[feature_name] >= lower_bound) & (result[feature_name] <= upper_bound)]\n",
        "    return result\n",
        "\n",
        "# apply outlier removal to selected columns\n",
        "data_clean = remove_outliers(data_clean, ['MTS','UTS', 'UCS','SC','RBC','ESI'])\n",
        "\n",
        "print(data_clean)"
      ],
      "metadata": {
        "id": "Lou3eNWJDumk",
        "colab": {
          "base_uri": "https://localhost:8080/"
        },
        "outputId": "55492427-fdc8-48c6-bb9d-7f516a8349ed"
      },
      "execution_count": 19,
      "outputs": [
        {
          "output_type": "stream",
          "name": "stdout",
          "text": [
            "      MTS    UCS   UTS    SC    RBC  ESI Intensity Occurence\n",
            "0    90.0  170.0  11.3  0.53  15.04  9.0  Moderate       Yes\n",
            "1    90.0  220.0   7.4  0.41  29.73  7.3      Weak       Yes\n",
            "2    62.6  165.0   9.4  0.38  17.55  9.0      Weak       Yes\n",
            "3    55.4  176.0   7.3  0.31  24.11  9.3  Moderate       Yes\n",
            "4    30.0   88.7   3.7  0.34  23.97  6.6  Moderate       Yes\n",
            "..    ...    ...   ...   ...    ...  ...       ...       ...\n",
            "471  27.8   90.0   2.1  0.31  42.80  1.8      None        No\n",
            "472  30.3   88.0   3.1  0.34  28.30  3.0      Weak       Yes\n",
            "474  41.6   67.6   2.7  0.61  25.00  3.7  Moderate       Yes\n",
            "475  40.1   72.1   2.3  0.55  31.30  4.6  Moderate       Yes\n",
            "476  58.2   83.6   2.6  0.69  32.10  5.9    Strong       Yes\n",
            "\n",
            "[405 rows x 8 columns]\n"
          ]
        }
      ]
    },
    {
      "cell_type": "code",
      "source": [
        "data_transformed = data_clean.copy()"
      ],
      "metadata": {
        "id": "szRgAqQ_v3AA"
      },
      "execution_count": 20,
      "outputs": []
    },
    {
      "cell_type": "code",
      "source": [
        "# List of columns to normalize\n",
        "cols_to_normalize = ['MTS', 'UCS', 'UTS', 'SC', 'RBC', 'ESI']\n",
        "\n",
        "# Apply min-max normalization to each column\n",
        "for col in cols_to_normalize:\n",
        "    data_transformed[col] = (data_transformed[col] - data_transformed[col].min()) / (data_transformed[col].max() - data_transformed[col].min())\n",
        "\n",
        "# Print the normalized DataFrame\n",
        "print(data_transformed)"
      ],
      "metadata": {
        "id": "ad93b15ZPXZQ",
        "colab": {
          "base_uri": "https://localhost:8080/"
        },
        "outputId": "8ad8e096-0a7a-4c5c-f963-3e0f86170e0f"
      },
      "execution_count": 21,
      "outputs": [
        {
          "output_type": "stream",
          "name": "stdout",
          "text": [
            "          MTS       UCS       UTS        SC       RBC       ESI Intensity  \\\n",
            "0    0.781474  0.700018  0.649227  0.435644  0.311680  0.811695  Moderate   \n",
            "1    0.781474  0.930773  0.417360  0.316832  0.619111  0.643211      Weak   \n",
            "2    0.536481  0.676943  0.536266  0.287129  0.364209  0.811695      Weak   \n",
            "3    0.472103  0.727709  0.411415  0.217822  0.501496  0.841427  Moderate   \n",
            "4    0.244993  0.324811  0.197384  0.247525  0.498566  0.573835  Moderate   \n",
            "..        ...       ...       ...       ...       ...       ...       ...   \n",
            "471  0.225322  0.330810  0.102259  0.217822  0.892640  0.098117      None   \n",
            "472  0.247675  0.321580  0.161712  0.247525  0.589184  0.217047      Weak   \n",
            "474  0.348712  0.227432  0.137931  0.514851  0.520122  0.286422  Moderate   \n",
            "475  0.335300  0.248200  0.114150  0.455446  0.651968  0.375619  Moderate   \n",
            "476  0.497139  0.301274  0.131986  0.594059  0.668711  0.504460    Strong   \n",
            "\n",
            "    Occurence  \n",
            "0         Yes  \n",
            "1         Yes  \n",
            "2         Yes  \n",
            "3         Yes  \n",
            "4         Yes  \n",
            "..        ...  \n",
            "471        No  \n",
            "472       Yes  \n",
            "474       Yes  \n",
            "475       Yes  \n",
            "476       Yes  \n",
            "\n",
            "[405 rows x 8 columns]\n"
          ]
        }
      ]
    },
    {
      "cell_type": "code",
      "source": [
        "# Convert the data to pandas DataFrames for easier plotting\n",
        "feature_columns = ['MTS', 'UCS', 'UTS', 'SC', 'RBC', 'ESI']\n",
        "df_before = pd.DataFrame(data_clean, columns=feature_columns)\n",
        "df_after = pd.DataFrame(data_transformed, columns=feature_columns)\n",
        "\n",
        "# Create histograms for each feature before and after normalization\n",
        "plt.figure(figsize=(16, 8))\n",
        "for i, feature in enumerate(feature_columns):\n",
        "    plt.subplot(2, 3, i + 1)\n",
        "    plt.hist(df_before[feature], alpha=0.5, label='Before Normalization', bins=20)\n",
        "    plt.hist(df_after[feature], alpha=0.5, label='After Normalization', bins=20)\n",
        "    plt.title(f'{feature} Distribution')\n",
        "    plt.legend()\n",
        "\n",
        "plt.tight_layout()\n",
        "plt.show()"
      ],
      "metadata": {
        "colab": {
          "base_uri": "https://localhost:8080/",
          "height": 417
        },
        "id": "Sbs1djNu9wrL",
        "outputId": "6410959b-ebe6-44fe-d7b0-e7aa4a08d93d"
      },
      "execution_count": 22,
      "outputs": [
        {
          "output_type": "display_data",
          "data": {
            "text/plain": [
              "<Figure size 1600x800 with 6 Axes>"
            ],
            "image/png": "[encoded data removed]"
          },
          "metadata": {}
        }
      ]
    },
    {
      "cell_type": "code",
      "source": [
        "data_model2 = data_transformed.loc[data_transformed['Occurence'] !='No']"
      ],
      "metadata": {
        "id": "M3_nkHeAQ4al"
      },
      "execution_count": 23,
      "outputs": []
    },
    {
      "cell_type": "code",
      "source": [
        "X1 = data_transformed.drop(['Intensity','Occurence'], axis=1)\n",
        "Y1 = data_transformed['Occurence']\n",
        "\n",
        "X2 = data_model2.drop(['Intensity','Occurence'], axis=1)\n",
        "Y2 = data_model2['Intensity']"
      ],
      "metadata": {
        "id": "H0I8aafpQuQH"
      },
      "execution_count": 24,
      "outputs": []
    },
    {
      "cell_type": "code",
      "source": [
        "from sklearn import svm\n",
        "from sklearn.svm import SVC\n",
        "from sklearn.preprocessing import LabelEncoder\n",
        "from sklearn.model_selection import train_test_split\n",
        "from sklearn.metrics import accuracy_score, precision_score, recall_score, f1_score, confusion_matrix\n",
        "from sklearn.metrics import classification_report\n",
        "from sklearn.model_selection import cross_val_score\n",
        "from sklearn.model_selection import GridSearchCV\n",
        "import xgboost as xgb\n",
        "from xgboost import XGBClassifier\n",
        "import time"
      ],
      "metadata": {
        "id": "mODWp_75FQSR"
      },
      "execution_count": 25,
      "outputs": []
    },
    {
      "cell_type": "code",
      "source": [
        "# Mapping dictionary\n",
        "mapping = {'Yes': 1, 'No': 0}\n",
        "mapping2 = {'Weak': 0, 'Moderate': 1, 'Strong': 2}\n",
        "\n",
        "# Apply mapping to encode the target column\n",
        "Y1 = [mapping[label] for label in Y1]\n",
        "Y2 = [mapping2[label] for label in Y2]"
      ],
      "metadata": {
        "id": "40i4js1WKiTP"
      },
      "execution_count": 26,
      "outputs": []
    },
    {
      "cell_type": "markdown",
      "source": [
        "# **MODEL 1 - Rockburst Events Classification**"
      ],
      "metadata": {
        "id": "gbvySn7qFNGM"
      }
    },
    {
      "cell_type": "markdown",
      "source": [
        "## **GWO-SVM**"
      ],
      "metadata": {
        "id": "Oh6F9tTu3VMI"
      }
    },
    {
      "cell_type": "code",
      "source": [
        "# split the dataset into training and testing sets\n",
        "X1_train, X1_test, y1_train, y1_test = train_test_split(X1, Y1, test_size=0.2, random_state=42)"
      ],
      "metadata": {
        "id": "13URJZy4FJY_"
      },
      "execution_count": 27,
      "outputs": []
    },
    {
      "cell_type": "code",
      "source": [
        "# Apply SMOTE only to the training set\n",
        "smote = SMOTE(sampling_strategy='auto', k_neighbors=5, random_state=42, n_jobs=None)\n",
        "X_train_smote, y_train_smote = smote.fit_resample(X1_train, y1_train)"
      ],
      "metadata": {
        "id": "DPlbGIaGcWL2"
      },
      "execution_count": 29,
      "outputs": []
    },
    {
      "cell_type": "code",
      "source": [
        "np.random.seed(42)\n",
        "\n",
        "# Define the GWO class\n",
        "class GWO:\n",
        "    def __init__(self, n_iter, n_pop, n_dim, lb, ub, obj_func):\n",
        "        self.n_iter = n_iter\n",
        "        self.n_pop = n_pop\n",
        "        self.n_dim = n_dim\n",
        "        self.lb = lb\n",
        "        self.ub = ub\n",
        "        self.obj_func = obj_func\n",
        "        self.alpha_pos = None\n",
        "        self.beta_pos = None\n",
        "        self.delta_pos = None\n",
        "        self.alpha_score = np.inf\n",
        "        self.beta_score = np.inf\n",
        "        self.delta_score = np.inf\n",
        "        self.pos = np.random.uniform(low=self.lb, high=self.ub, size=(self.n_pop, self.n_dim))\n",
        "\n",
        "    def run(self):\n",
        "        for t in range(self.n_iter):\n",
        "            for i in range(self.n_pop):\n",
        "                # Boundary checking\n",
        "                self.pos[i] = np.clip(self.pos[i], self.lb, self.ub)\n",
        "\n",
        "                # Calculate objective function value\n",
        "                fitness = self.obj_func(self.pos[i])\n",
        "\n",
        "                # Update alpha, beta, and delta\n",
        "                if fitness < self.alpha_score:\n",
        "                    self.alpha_score = fitness\n",
        "                    self.alpha_pos = self.pos[i]\n",
        "                elif fitness < self.beta_score:\n",
        "                    self.beta_score = fitness\n",
        "                    self.beta_pos = self.pos[i]\n",
        "                elif fitness < self.delta_score:\n",
        "                    self.delta_score = fitness\n",
        "                    self.delta_pos = self.pos[i]\n",
        "\n",
        "            # Update a, A, C, and D\n",
        "            a = 2 - 2 * (t / self.n_iter)\n",
        "            A = 2 * a * np.random.rand(self.n_dim) - a\n",
        "            C = 2 * np.random.rand(self.n_dim)\n",
        "            D = np.abs(C * self.alpha_pos - self.pos)\n",
        "\n",
        "            # Update position\n",
        "            self.pos = self.alpha_pos - A * D\n",
        "\n",
        "        return self.alpha_pos\n",
        "\n",
        "# Define the SVM objective function\n",
        "def svm_obj_func(x):\n",
        "    gamma, C = x\n",
        "    clf = SVC(C=C, gamma=gamma, kernel='rbf')\n",
        "    clf.fit(X_train_smote, y_train_smote)\n",
        "    y_pred = clf.predict(X1_test)\n",
        "    return 1 - accuracy_score(y1_test, y_pred)\n",
        "\n",
        "# Define the GWO-SVM model\n",
        "n_iter = 20\n",
        "n_pop = 20\n",
        "n_dim = 2\n",
        "lb = [0.1, 1]\n",
        "ub = [25, 50]\n",
        "\n",
        "# Start the timer\n",
        "start_time = time.time()\n",
        "\n",
        "gwo_svm = GWO(n_iter=n_iter, n_pop=n_pop, n_dim=n_dim, lb=lb, ub=ub, obj_func=svm_obj_func)\n",
        "\n",
        "# Train the model\n",
        "best_params = gwo_svm.run()\n",
        "\n",
        "# Fit the SVM model with the best hyperparameters\n",
        "clf = SVC(C=best_params[1], gamma=best_params[0], kernel='rbf')\n",
        "clf.fit(X_train_smote, y_train_smote)\n",
        "\n",
        "# Evaluate the model on test data\n",
        "y_pred = clf.predict(X1_test)\n",
        "accuracy = accuracy_score(y1_test, y_pred)\n",
        "precision = precision_score(y1_test, y_pred, average='macro')\n",
        "recall = recall_score(y1_test, y_pred, average='macro')\n",
        "f1 = f1_score(y1_test, y_pred, average='macro')\n",
        "cm = confusion_matrix(y1_test, y_pred)\n",
        "\n",
        "# Evaluate the model on training data\n",
        "y_pred_train = clf.predict(X_train_smote)\n",
        "accuracy_train = accuracy_score(y_train_smote, y_pred_train)\n",
        "precision_train = precision_score(y_train_smote, y_pred_train, average='macro')\n",
        "recall_train = recall_score(y_train_smote, y_pred_train, average='macro')\n",
        "f1_train = f1_score(y_train_smote, y_pred_train, average='macro')\n",
        "cm_train = confusion_matrix(y_train_smote, y_pred_train)\n",
        "\n",
        "# Calculate the running time\n",
        "running_time = time.time() - start_time\n",
        "\n",
        "# Print metrics for test data\n",
        "print(classification_report(y1_test, y_pred))\n",
        "print(\"Accuracy: {:.4f}%\".format(accuracy * 100))\n",
        "print(\"Precision: {:.4f}%\".format(precision * 100))\n",
        "print(\"Recall: {:.4f}%\".format(recall * 100))\n",
        "print(\"F1-Score: {:.4f}%\".format(f1 * 100))\n",
        "print(\"Confusion Matrix:\\n\", cm)\n",
        "\n",
        "# Print metrics for training data\n",
        "print(\"\\nTraining Data:\")\n",
        "print(classification_report(y_train_smote, y_pred_train))\n",
        "print(\"Accuracy: {:.4f}%\".format(accuracy_train * 100))\n",
        "print(\"Precision: {:.4f}%\".format(precision_train * 100))\n",
        "print(\"Recall: {:.4f}%\".format(recall_train * 100))\n",
        "print(\"F1-Score: {:.4f}%\".format(f1_train * 100))\n",
        "print(\"Confusion Matrix:\\n\", cm_train)\n",
        "\n",
        "print(\"Running Time: {:.2f} seconds\".format(running_time))"
      ],
      "metadata": {
        "colab": {
          "base_uri": "https://localhost:8080/"
        },
        "id": "mKgRLncBFeVL",
        "outputId": "069c45eb-2487-45f6-a48c-8099ed40d2df"
      },
      "execution_count": null,
      "outputs": [
        {
          "output_type": "stream",
          "name": "stdout",
          "text": [
            "              precision    recall  f1-score   support\n",
            "\n",
            "           0       0.89      1.00      0.94        16\n",
            "           1       1.00      0.97      0.98        65\n",
            "\n",
            "    accuracy                           0.98        81\n",
            "   macro avg       0.94      0.98      0.96        81\n",
            "weighted avg       0.98      0.98      0.98        81\n",
            "\n",
            "Accuracy: 97.5309%\n",
            "Precision: 94.4444%\n",
            "Recall: 98.4615%\n",
            "F1-Score: 96.2776%\n",
            "Confusion Matrix:\n",
            " [[16  0]\n",
            " [ 2 63]]\n",
            "\n",
            "Training Data:\n",
            "              precision    recall  f1-score   support\n",
            "\n",
            "           0       0.95      1.00      0.98       275\n",
            "           1       1.00      0.95      0.97       275\n",
            "\n",
            "    accuracy                           0.97       550\n",
            "   macro avg       0.98      0.97      0.97       550\n",
            "weighted avg       0.98      0.97      0.97       550\n",
            "\n",
            "Accuracy: 97.4545%\n",
            "Precision: 97.5779%\n",
            "Recall: 97.4545%\n",
            "F1-Score: 97.4529%\n",
            "Confusion Matrix:\n",
            " [[275   0]\n",
            " [ 14 261]]\n",
            "Running Time: 6.98 seconds\n"
          ]
        }
      ]
    },
    {
      "cell_type": "markdown",
      "source": [
        "## **XGBoost**"
      ],
      "metadata": {
        "id": "EuDlW6zD3aJc"
      }
    },
    {
      "cell_type": "code",
      "source": [
        "np.random.seed(42)\n",
        "\n",
        "# Define the XGBoost parameters\n",
        "params = {\n",
        "    'objective': 'binary:logistic',\n",
        "    'eval_metric': 'logloss',\n",
        "    'eta': 1.5,\n",
        "    'max_depth': 6,\n",
        "    'min_child_weight': 2,\n",
        "    'gamma': 0,\n",
        "    'subsample': 0.5,\n",
        "    'colsample_bytree': 0.5,\n",
        "    'alpha': 1,\n",
        "    'lambda': 1,\n",
        "    'seed': 42\n",
        "}\n",
        "\n",
        "# Convert the data into XGBoost DMatrix format\n",
        "dtrain = xgb.DMatrix(X_train_smote, label=y_train_smote)\n",
        "dtest = xgb.DMatrix(X1_test, label=y1_test)\n",
        "\n",
        "start_time = time.time()  # Start measuring the running time\n",
        "\n",
        "# Train the XGBoost model\n",
        "num_round = 100\n",
        "bst = xgb.train(params, dtrain, num_round)\n",
        "\n",
        "# Predict the labels of the testing set\n",
        "y_pred = bst.predict(dtest)\n",
        "y_pred = [int(round(x)) for x in y_pred]\n",
        "\n",
        "# Compute the accuracy of the classifier\n",
        "accuracy = accuracy_score(y1_test, y_pred)\n",
        "precision = precision_score(y1_test, y_pred, average='macro')\n",
        "recall = recall_score(y1_test, y_pred, average='macro')\n",
        "f1 = f1_score(y1_test, y_pred, average='macro')\n",
        "cm = confusion_matrix(y1_test, y_pred)\n",
        "\n",
        "# Predict the labels of the training set\n",
        "y_pred_train = bst.predict(dtrain)\n",
        "y_pred_train = [int(round(x)) for x in y_pred_train]\n",
        "\n",
        "# Compute the metrics for training data\n",
        "accuracy_train = accuracy_score(y_train_smote, y_pred_train)\n",
        "precision_train = precision_score(y_train_smote, y_pred_train, average='macro')\n",
        "recall_train = recall_score(y_train_smote, y_pred_train, average='macro')\n",
        "f1_train = f1_score(y_train_smote, y_pred_train, average='macro')\n",
        "cm_train = confusion_matrix(y_train_smote, y_pred_train)\n",
        "\n",
        "# Print metrics for test data\n",
        "print(classification_report(y1_test, y_pred))\n",
        "print(\"Accuracy: {:.4f}%\".format(accuracy * 100))\n",
        "print(\"Precision: {:.4f}%\".format(precision * 100))\n",
        "print(\"Recall: {:.4f}%\".format(recall * 100))\n",
        "print(\"F1-Score: {:.4f}%\".format(f1 * 100))\n",
        "print(\"Confusion Matrix:\\n\", cm)\n",
        "\n",
        "# Print metrics for training data\n",
        "print(\"\\nTraining Data:\")\n",
        "print(classification_report(y_train_smote, y_pred_train))\n",
        "print(\"Accuracy: {:.4f}%\".format(accuracy_train * 100))\n",
        "print(\"Precision: {:.4f}%\".format(precision_train * 100))\n",
        "print(\"Recall: {:.4f}%\".format(recall_train * 100))\n",
        "print(\"F1-Score: {:.4f}%\".format(f1_train * 100))\n",
        "print(\"Confusion Matrix:\\n\", cm_train)\n",
        "\n",
        "# Plot colorful confusion matrix for test data\n",
        "plt.figure(figsize=(4, 3))\n",
        "sns.heatmap(cm, annot=True, fmt=\"d\", cmap=\"Blues\")\n",
        "plt.xlabel('Predicted labels')\n",
        "plt.ylabel('True labels')\n",
        "plt.title('Confusion Matrix - Test Data')\n",
        "plt.show()\n",
        "\n",
        "# Plot colorful confusion matrix for training data\n",
        "plt.figure(figsize=(4, 3))\n",
        "sns.heatmap(cm_train, annot=True, fmt=\"d\", cmap=\"Blues\")\n",
        "plt.xlabel('Predicted labels')\n",
        "plt.ylabel('True labels')\n",
        "plt.title('Confusion Matrix - Training Data')\n",
        "plt.show()\n",
        "\n",
        "end_time = time.time()  # Stop measuring the running time\n",
        "running_time = end_time - start_time\n",
        "print(\"Running Time: {:.4f} seconds\".format(running_time))"
      ],
      "metadata": {
        "colab": {
          "base_uri": "https://localhost:8080/",
          "height": 1000
        },
        "id": "pbD0yMW6fMxE",
        "outputId": "60524b71-bc74-4763-d4cd-30964c81be23"
      },
      "execution_count": null,
      "outputs": [
        {
          "output_type": "stream",
          "name": "stdout",
          "text": [
            "              precision    recall  f1-score   support\n",
            "\n",
            "           0       0.89      1.00      0.94        16\n",
            "           1       1.00      0.97      0.98        65\n",
            "\n",
            "    accuracy                           0.98        81\n",
            "   macro avg       0.94      0.98      0.96        81\n",
            "weighted avg       0.98      0.98      0.98        81\n",
            "\n",
            "Accuracy: 97.5309%\n",
            "Precision: 94.4444%\n",
            "Recall: 98.4615%\n",
            "F1-Score: 96.2776%\n",
            "Confusion Matrix:\n",
            " [[16  0]\n",
            " [ 2 63]]\n",
            "\n",
            "Training Data:\n",
            "              precision    recall  f1-score   support\n",
            "\n",
            "           0       0.98      1.00      0.99       275\n",
            "           1       1.00      0.97      0.99       275\n",
            "\n",
            "    accuracy                           0.99       550\n",
            "   macro avg       0.99      0.99      0.99       550\n",
            "weighted avg       0.99      0.99      0.99       550\n",
            "\n",
            "Accuracy: 98.5455%\n",
            "Precision: 98.5686%\n",
            "Recall: 98.5455%\n",
            "F1-Score: 98.5453%\n",
            "Confusion Matrix:\n",
            " [[274   1]\n",
            " [  7 268]]\n"
          ]
        },
        {
          "output_type": "display_data",
          "data": {
            "text/plain": [
              "<Figure size 400x300 with 2 Axes>"
            ],
            "image/png": "[encoded data removed]"
          },
          "metadata": {}
        },
        {
          "output_type": "display_data",
          "data": {
            "text/plain": [
              "<Figure size 400x300 with 2 Axes>"
            ],
            "image/png": "[encoded data removed]"
          },
          "metadata": {}
        },
        {
          "output_type": "stream",
          "name": "stdout",
          "text": [
            "Running Time: 0.5098 seconds\n"
          ]
        }
      ]
    },
    {
      "cell_type": "markdown",
      "source": [
        "# **MODEL 2 - Rockburst Intensity Classification**"
      ],
      "metadata": {
        "id": "ppPBlmEOUboi"
      }
    },
    {
      "cell_type": "markdown",
      "source": [
        "## **GWO-SVM**"
      ],
      "metadata": {
        "id": "cQi2s-SWIp0X"
      }
    },
    {
      "cell_type": "code",
      "source": [
        " # split the dataset into training and testing sets\n",
        "X2_train, X2_test, y2_train, y2_test = train_test_split(X2, Y2, test_size=0.1, random_state=42)"
      ],
      "metadata": {
        "id": "Rm1p4isPUe4B"
      },
      "execution_count": null,
      "outputs": []
    },
    {
      "cell_type": "code",
      "source": [
        "# Apply SMOTE only to the training set\n",
        "smote = SMOTE(sampling_strategy='auto', k_neighbors=5, random_state=42, n_jobs=None)\n",
        "X2_train_smote, y2_train_smote = smote.fit_resample(X2_train, y2_train)"
      ],
      "metadata": {
        "id": "isINx9MceNYa"
      },
      "execution_count": null,
      "outputs": []
    },
    {
      "cell_type": "code",
      "source": [
        "np.random.seed(42)\n",
        "\n",
        "# Define the GWO class\n",
        "class GWO:\n",
        "    def __init__(self, n_iter, n_pop, n_dim, lb, ub, obj_func):\n",
        "        self.n_iter = n_iter\n",
        "        self.n_pop = n_pop\n",
        "        self.n_dim = n_dim\n",
        "        self.lb = lb\n",
        "        self.ub = ub\n",
        "        self.obj_func = obj_func\n",
        "        self.alpha_pos = None\n",
        "        self.beta_pos = None\n",
        "        self.delta_pos = None\n",
        "        self.alpha_score = np.inf\n",
        "        self.beta_score = np.inf\n",
        "        self.delta_score = np.inf\n",
        "        self.pos = np.random.uniform(low=self.lb, high=self.ub, size=(self.n_pop, self.n_dim))\n",
        "\n",
        "    def run(self):\n",
        "        for t in range(self.n_iter):\n",
        "            for i in range(self.n_pop):\n",
        "                # Boundary checking\n",
        "                self.pos[i] = np.clip(self.pos[i], self.lb, self.ub)\n",
        "\n",
        "                # Calculate objective function value\n",
        "                fitness = self.obj_func(self.pos[i])\n",
        "\n",
        "                # Update alpha, beta, and delta\n",
        "                if fitness < self.alpha_score:\n",
        "                    self.alpha_score = fitness\n",
        "                    self.alpha_pos = self.pos[i]\n",
        "                elif fitness < self.beta_score:\n",
        "                    self.beta_score = fitness\n",
        "                    self.beta_pos = self.pos[i]\n",
        "                elif fitness < self.delta_score:\n",
        "                    self.delta_score = fitness\n",
        "                    self.delta_pos = self.pos[i]\n",
        "\n",
        "            # Update a, A, C, and D\n",
        "            a = 2 - 2 * (t / self.n_iter)\n",
        "            A = 2 * a * np.random.rand(self.n_dim) - a\n",
        "            C = 2 * np.random.rand(self.n_dim)\n",
        "            D = np.abs(C * self.alpha_pos - self.pos)\n",
        "\n",
        "            # Update position\n",
        "            self.pos = self.alpha_pos - A * D\n",
        "\n",
        "        return self.alpha_pos\n",
        "\n",
        "# Define the SVM objective function\n",
        "def svm_obj_func(x):\n",
        "    gamma, C = x\n",
        "    clf = SVC(C=C, gamma=gamma, kernel='rbf')\n",
        "    clf.fit(X2_train_smote, y2_train_smote)\n",
        "    y_pred = clf.predict(X2_test)\n",
        "    return 1 - accuracy_score(y2_test, y_pred)\n",
        "\n",
        "# Define the GWO-SVM model\n",
        "n_iter = 20\n",
        "n_pop = 20\n",
        "n_dim = 2\n",
        "lb = [0.1, 1]\n",
        "ub = [25, 50]\n",
        "\n",
        "start_time = time.time()\n",
        "\n",
        "gwo_svm = GWO(n_iter=n_iter, n_pop=n_pop, n_dim=n_dim, lb=lb, ub=ub, obj_func=svm_obj_func)\n",
        "\n",
        "# Train the model\n",
        "best_params = gwo_svm.run()\n",
        "\n",
        "# Fit the SVM model with the best hyperparameters\n",
        "clf = SVC(C=best_params[1], gamma=best_params[0], kernel='rbf')\n",
        "clf.fit(X2_train_smote, y2_train_smote)\n",
        "\n",
        "# Evaluate the model on test data\n",
        "y_pred = clf.predict(X2_test)\n",
        "accuracy = accuracy_score(y2_test, y_pred)\n",
        "precision = precision_score(y2_test, y_pred, average='macro')\n",
        "recall = recall_score(y2_test, y_pred, average='macro')\n",
        "f1 = f1_score(y2_test, y_pred, average='macro')\n",
        "cm = confusion_matrix(y2_test, y_pred)\n",
        "\n",
        "# Evaluate the model on training data\n",
        "y_pred_train = clf.predict(X2_train_smote)\n",
        "accuracy_train = accuracy_score(y2_train_smote, y_pred_train)\n",
        "precision_train = precision_score(y2_train_smote, y_pred_train, average='macro')\n",
        "recall_train = recall_score(y2_train_smote, y_pred_train, average='macro')\n",
        "f1_train = f1_score(y2_train_smote, y_pred_train, average='macro')\n",
        "cm_train = confusion_matrix(y2_train_smote, y_pred_train)\n",
        "\n",
        "end_time = time.time()\n",
        "execution_time = end_time - start_time\n",
        "\n",
        "# Print metrics for test data\n",
        "print(classification_report(y2_test, y_pred))\n",
        "print(\"Accuracy: {:.4f}%\".format(accuracy * 100))\n",
        "print(\"Precision: {:.4f}%\".format(precision * 100))\n",
        "print(\"Recall: {:.4f}%\".format(recall * 100))\n",
        "print(\"F1-Score: {:.4f}%\".format(f1 * 100))\n",
        "print(\"Confusion Matrix:\\n\", cm)\n",
        "\n",
        "# Print metrics for training data\n",
        "print(\"\\nTraining Data:\")\n",
        "print(classification_report(y2_train_smote, y_pred_train))\n",
        "print(\"Accuracy: {:.4f}%\".format(accuracy_train * 100))\n",
        "print(\"Precision: {:.4f}%\".format(precision_train * 100))\n",
        "print(\"Recall: {:.4f}%\".format(recall_train * 100))\n",
        "print(\"F1-Score: {:.4f}%\".format(f1_train * 100))\n",
        "print(\"Confusion Matrix:\\n\", cm_train)\n",
        "\n",
        "# Plot colorful confusion matrix for test data\n",
        "plt.figure(figsize=(4, 3))\n",
        "sns.heatmap(cm, annot=True, fmt=\"d\", cmap=\"Blues\")\n",
        "plt.xlabel('Predicted labels')\n",
        "plt.ylabel('True labels')\n",
        "plt.title('Confusion Matrix - Test Data')\n",
        "plt.show()\n",
        "\n",
        "print(\"Execution Time: {:.2f} seconds\".format(execution_time))"
      ],
      "metadata": {
        "colab": {
          "base_uri": "https://localhost:8080/",
          "height": 1000
        },
        "id": "lO5QY_uCUpe9",
        "outputId": "af283679-9d29-4c9f-dc26-4b90c68b6c5a"
      },
      "execution_count": null,
      "outputs": [
        {
          "output_type": "stream",
          "name": "stdout",
          "text": [
            "              precision    recall  f1-score   support\n",
            "\n",
            "           0       0.87      0.93      0.90        14\n",
            "           1       0.92      0.75      0.83        16\n",
            "           2       0.67      1.00      0.80         4\n",
            "\n",
            "    accuracy                           0.85        34\n",
            "   macro avg       0.82      0.89      0.84        34\n",
            "weighted avg       0.87      0.85      0.85        34\n",
            "\n",
            "Accuracy: 85.2941%\n",
            "Precision: 81.8803%\n",
            "Recall: 89.2857%\n",
            "F1-Score: 84.1379%\n",
            "Confusion Matrix:\n",
            " [[13  1  0]\n",
            " [ 2 12  2]\n",
            " [ 0  0  4]]\n",
            "\n",
            "Training Data:\n",
            "              precision    recall  f1-score   support\n",
            "\n",
            "           0       0.93      0.92      0.92       135\n",
            "           1       0.85      0.84      0.85       135\n",
            "           2       0.90      0.91      0.90       135\n",
            "\n",
            "    accuracy                           0.89       405\n",
            "   macro avg       0.89      0.89      0.89       405\n",
            "weighted avg       0.89      0.89      0.89       405\n",
            "\n",
            "Accuracy: 89.1358%\n",
            "Precision: 89.1310%\n",
            "Recall: 89.1358%\n",
            "F1-Score: 89.1309%\n",
            "Confusion Matrix:\n",
            " [[124  10   1]\n",
            " [  8 114  13]\n",
            " [  2  10 123]]\n"
          ]
        },
        {
          "output_type": "display_data",
          "data": {
            "text/plain": [
              "<Figure size 400x300 with 2 Axes>"
            ],
            "image/png": "[encoded data removed]"
          },
          "metadata": {}
        },
        {
          "output_type": "stream",
          "name": "stdout",
          "text": [
            "Execution Time: 9.70 seconds\n"
          ]
        }
      ]
    },
    {
      "cell_type": "markdown",
      "source": [
        "## **XGBoost**"
      ],
      "metadata": {
        "id": "71si3lH6IuBp"
      }
    },
    {
      "cell_type": "code",
      "source": [
        "# Define the XGBoost parameters\n",
        "\n",
        "params = {\n",
        "    'objective': 'multi:softmax',\n",
        "    'eval_metric': 'mlogloss',\n",
        "    'num_class': 3,\n",
        "    'eta': 1.5,\n",
        "    'max_depth': 6,\n",
        "    'min_child_weight': 2,\n",
        "    'gamma': 0,\n",
        "    'subsample': 0.5,\n",
        "    'colsample_bytree': 0.5,\n",
        "    'alpha': 1,\n",
        "    'lambda': 1,\n",
        "    'seed': 42\n",
        "}\n",
        "\n",
        "# Convert the data into XGBoost DMatrix format\n",
        "dtrain = xgb.DMatrix(X2_train_smote, label=y2_train_smote)\n",
        "dtest = xgb.DMatrix(X2_test, label=y2_test)\n",
        "\n",
        "start_time = time.time()  # Start measuring the running time\n",
        "\n",
        "# Train the XGBoost model\n",
        "num_round = 100\n",
        "bst = xgb.train(params, dtrain, num_round)\n",
        "\n",
        "# Predict the labels of the testing set\n",
        "y_pred = bst.predict(dtest)\n",
        "y_pred = [int(round(x)) for x in y_pred]\n",
        "\n",
        "# Compute the accuracy of the classifier\n",
        "accuracy = accuracy_score(y2_test, y_pred)\n",
        "precision = precision_score(y2_test, y_pred, average='macro')\n",
        "recall = recall_score(y2_test, y_pred, average='macro')\n",
        "f1 = f1_score(y2_test, y_pred, average='macro')\n",
        "cm = confusion_matrix(y2_test, y_pred)\n",
        "\n",
        "# Predict the labels of the training set\n",
        "y_pred_train = bst.predict(dtrain)\n",
        "y_pred_train = [int(round(x)) for x in y_pred_train]\n",
        "\n",
        "# Compute the metrics for training data\n",
        "accuracy_train = accuracy_score(y2_train_smote, y_pred_train)\n",
        "precision_train = precision_score(y2_train_smote, y_pred_train, average='macro')\n",
        "recall_train = recall_score(y2_train_smote, y_pred_train, average='macro')\n",
        "f1_train = f1_score(y2_train_smote, y_pred_train, average='macro')\n",
        "cm_train = confusion_matrix(y2_train_smote, y_pred_train)\n",
        "\n",
        "#Print metrics for test data\n",
        "print(classification_report(y2_test, y_pred))\n",
        "print(\"Accuracy: {:.4f}%\".format(accuracy * 100))\n",
        "print(\"Precision: {:.4f}%\".format(precision * 100))\n",
        "print(\"Recall: {:.4f}%\".format(recall * 100))\n",
        "print(\"F1-Score: {:.4f}%\".format(f1 * 100))\n",
        "print(\"Confusion Matrix:\\n\", cm)\n",
        "\n",
        "# Print metrics for training data\n",
        "print(\"\\nTraining Data:\")\n",
        "print(classification_report(y2_train_smote, y_pred_train))\n",
        "print(\"Accuracy: {:.4f}%\".format(accuracy_train * 100))\n",
        "print(\"Precision: {:.4f}%\".format(precision_train * 100))\n",
        "print(\"Recall: {:.4f}%\".format(recall_train * 100))\n",
        "print(\"F1-Score: {:.4f}%\".format(f1_train * 100))\n",
        "print(\"Confusion Matrix:\\n\", cm_train)\n",
        "\n",
        "end_time = time.time()  # Stop measuring the running time\n",
        "running_time = end_time - start_time\n",
        "print(\"Running Time: {:.4f} seconds\".format(running_time))"
      ],
      "metadata": {
        "colab": {
          "base_uri": "https://localhost:8080/"
        },
        "id": "jU6NPGvkWMK5",
        "outputId": "4d75258b-f4b8-4050-948c-e00373668643"
      },
      "execution_count": null,
      "outputs": [
        {
          "output_type": "stream",
          "name": "stdout",
          "text": [
            "              precision    recall  f1-score   support\n",
            "\n",
            "           0       0.93      0.93      0.93        14\n",
            "           1       0.93      0.81      0.87        16\n",
            "           2       0.67      1.00      0.80         4\n",
            "\n",
            "    accuracy                           0.88        34\n",
            "   macro avg       0.84      0.91      0.87        34\n",
            "weighted avg       0.90      0.88      0.88        34\n",
            "\n",
            "Accuracy: 88.2353%\n",
            "Precision: 84.1270%\n",
            "Recall: 91.3690%\n",
            "F1-Score: 86.5079%\n",
            "Confusion Matrix:\n",
            " [[13  1  0]\n",
            " [ 1 13  2]\n",
            " [ 0  0  4]]\n",
            "\n",
            "Training Data:\n",
            "              precision    recall  f1-score   support\n",
            "\n",
            "           0       0.99      1.00      1.00       135\n",
            "           1       0.99      0.99      0.99       135\n",
            "           2       1.00      0.99      1.00       135\n",
            "\n",
            "    accuracy                           1.00       405\n",
            "   macro avg       1.00      1.00      1.00       405\n",
            "weighted avg       1.00      1.00      1.00       405\n",
            "\n",
            "Accuracy: 99.5062%\n",
            "Precision: 99.5080%\n",
            "Recall: 99.5062%\n",
            "F1-Score: 99.5062%\n",
            "Confusion Matrix:\n",
            " [[135   0   0]\n",
            " [  1 134   0]\n",
            " [  0   1 134]]\n",
            "Running Time: 0.8567 seconds\n"
          ]
        }
      ]
    },
    {
      "cell_type": "markdown",
      "source": [
        "# **CONCLUSION**"
      ],
      "metadata": {
        "id": "XF1jVtTxgNgu"
      }
    },
    {
      "cell_type": "markdown",
      "source": [
        "1. In both classifications, GWO-SVM and XGBoost performed very well. For rockburst events classification with training data 80%, both models achieved 97.53% accuracy, 94.44% precision, 98.46% recall, and 96.28% F1-score. Both models were able to predict the yes rockburst class well compared to the other class.\n",
        "\n",
        "2. For rockburst intensity classification with 90% training data, XGBoost outperforms GWO-SVM in terms of accuracy, recall, F1 score, and running time. Both models were able to predict the weak intensity class well compared to the other classes."
      ],
      "metadata": {
        "id": "i3CuhEQygRgw"
      }
    }
  ]
}